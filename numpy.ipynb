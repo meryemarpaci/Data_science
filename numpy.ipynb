{
 "cells": [
  {
   "cell_type": "code",
   "execution_count": 1,
   "id": "6771d3ec-64d1-409a-9910-3d97451cb32e",
   "metadata": {
    "tags": []
   },
   "outputs": [
    {
     "data": {
      "text/plain": [
       "[1, 2, 3, 4]"
      ]
     },
     "execution_count": 1,
     "metadata": {},
     "output_type": "execute_result"
    }
   ],
   "source": [
    "a = [1,2,3,4]\n",
    "b=[2,3,4,5]\n",
    "a"
   ]
  },
  {
   "cell_type": "code",
   "execution_count": 4,
   "id": "37036564-248e-487d-8295-bde2219a6867",
   "metadata": {
    "tags": []
   },
   "outputs": [],
   "source": [
    "import numpy as np"
   ]
  },
  {
   "cell_type": "code",
   "execution_count": 6,
   "id": "a62d95f5-b0d3-423e-a169-bd7487f1a9df",
   "metadata": {
    "tags": []
   },
   "outputs": [
    {
     "data": {
      "text/plain": [
       "array([ 2,  6, 12, 20])"
      ]
     },
     "execution_count": 6,
     "metadata": {},
     "output_type": "execute_result"
    }
   ],
   "source": [
    "b=np.array([2,3,4,5])\n",
    "a=np.array([1,2,3,4])\n",
    "a*b"
   ]
  },
  {
   "cell_type": "code",
   "execution_count": 7,
   "id": "d0667824-6919-47e2-8217-19256e4ca400",
   "metadata": {
    "tags": []
   },
   "outputs": [
    {
     "data": {
      "text/plain": [
       "array([1., 2., 3., 4.], dtype=float32)"
      ]
     },
     "execution_count": 7,
     "metadata": {},
     "output_type": "execute_result"
    }
   ],
   "source": [
    "np.array([1,2,3,4],dtype =\"float32\") #listenin tipini belirtme"
   ]
  },
  {
   "cell_type": "code",
   "execution_count": 8,
   "id": "6787115f-6acc-4d49-87f6-2981f333af9a",
   "metadata": {
    "tags": []
   },
   "outputs": [
    {
     "data": {
      "text/plain": [
       "array([1, 2, 3, 4])"
      ]
     },
     "execution_count": 8,
     "metadata": {},
     "output_type": "execute_result"
    }
   ],
   "source": [
    "np.array([1,2,3,4],dtype =\"int\")"
   ]
  },
  {
   "cell_type": "code",
   "execution_count": 9,
   "id": "a7404335-8cf7-4207-b1d1-edcf5028d64b",
   "metadata": {
    "tags": []
   },
   "outputs": [
    {
     "data": {
      "text/plain": [
       "array([0, 0, 0, 0, 0, 0, 0, 0, 0, 0])"
      ]
     },
     "execution_count": 9,
     "metadata": {},
     "output_type": "execute_result"
    }
   ],
   "source": [
    "np.zeros(10,dtype=int) #0lardan oluşan liste"
   ]
  },
  {
   "cell_type": "code",
   "execution_count": 10,
   "id": "0165f4e9-96b4-4e39-b720-c2d3860a45de",
   "metadata": {
    "tags": []
   },
   "outputs": [
    {
     "data": {
      "text/plain": [
       "array([[1, 1, 1, 1, 1],\n",
       "       [1, 1, 1, 1, 1],\n",
       "       [1, 1, 1, 1, 1]])"
      ]
     },
     "execution_count": 10,
     "metadata": {},
     "output_type": "execute_result"
    }
   ],
   "source": [
    "np.ones((3,5),dtype=int) #birlerden oluşan matris"
   ]
  },
  {
   "cell_type": "code",
   "execution_count": 11,
   "id": "42ab61fb-67a2-4220-952a-76b1e8eca304",
   "metadata": {
    "tags": []
   },
   "outputs": [
    {
     "data": {
      "text/plain": [
       "array([[3, 3, 3, 3, 3],\n",
       "       [3, 3, 3, 3, 3],\n",
       "       [3, 3, 3, 3, 3]])"
      ]
     },
     "execution_count": 11,
     "metadata": {},
     "output_type": "execute_result"
    }
   ],
   "source": [
    "np.full((3,5),3) #diziyi sonda belirtilenlerle doldur"
   ]
  },
  {
   "cell_type": "code",
   "execution_count": 13,
   "id": "02a3422b-6fe8-43fb-840b-3b435ffcf4c8",
   "metadata": {
    "tags": []
   },
   "outputs": [
    {
     "data": {
      "text/plain": [
       "array([ 0,  3,  6,  9, 12, 15, 18, 21, 24, 27, 30])"
      ]
     },
     "execution_count": 13,
     "metadata": {},
     "output_type": "execute_result"
    }
   ],
   "source": [
    "np.arange(0,31,3) #0dan 31e 3er artacak şekilde doğrusal dizi"
   ]
  },
  {
   "cell_type": "code",
   "execution_count": 14,
   "id": "66f7281a-9e8a-4244-b54d-891c2a068e71",
   "metadata": {
    "tags": []
   },
   "outputs": [
    {
     "data": {
      "text/plain": [
       "array([0.        , 0.11111111, 0.22222222, 0.33333333, 0.44444444,\n",
       "       0.55555556, 0.66666667, 0.77777778, 0.88888889, 1.        ])"
      ]
     },
     "execution_count": 14,
     "metadata": {},
     "output_type": "execute_result"
    }
   ],
   "source": [
    "np.linspace(0,1,10) #0 ile 1 arası 10 tane değer tek boyutlu"
   ]
  },
  {
   "cell_type": "code",
   "execution_count": 15,
   "id": "71b04e93-ec42-4ea2-ba6c-b42e384c4d23",
   "metadata": {
    "tags": []
   },
   "outputs": [
    {
     "data": {
      "text/plain": [
       "array([[10.11978631, 16.59300253, 13.26454515,  5.35277092],\n",
       "       [12.26451651,  3.46248754,  5.28939765,  6.64513875],\n",
       "       [13.49193054, 10.71172333, 14.38214771, 10.04852185]])"
      ]
     },
     "execution_count": 15,
     "metadata": {},
     "output_type": "execute_result"
    }
   ],
   "source": [
    "np.random.normal(10,4,(3,4)) #3 satır 4 sütun ort=10 standart sapma=4 "
   ]
  },
  {
   "cell_type": "code",
   "execution_count": 17,
   "id": "c3f6c380-e14c-46cb-a432-32b149df81f2",
   "metadata": {
    "tags": []
   },
   "outputs": [
    {
     "data": {
      "text/plain": [
       "array([[7, 1, 5],\n",
       "       [3, 9, 5],\n",
       "       [7, 6, 9]])"
      ]
     },
     "execution_count": 17,
     "metadata": {},
     "output_type": "execute_result"
    }
   ],
   "source": [
    "np.random.randint(0,10,(3,3)) #rastgele 0-10 arası 3e 3lük"
   ]
  },
  {
   "cell_type": "markdown",
   "id": "20055f54-bc68-475c-906f-170f5d67367b",
   "metadata": {},
   "source": [
    "**ndim** -> kaç boyutlu dizi? \n",
    "**shape**-> boyut bilgisi(kaç elemanlı)\n",
    "**size** -> toplam eleman sayısı\n",
    "**dtype**-> array veri tipi\n"
   ]
  },
  {
   "cell_type": "code",
   "execution_count": 21,
   "id": "edabf927-4f06-4064-b133-6f65de11b512",
   "metadata": {
    "tags": []
   },
   "outputs": [
    {
     "ename": "TypeError",
     "evalue": "normal() got an unexpected keyword argument 'dtype'",
     "output_type": "error",
     "traceback": [
      "\u001b[1;31m---------------------------------------------------------------------------\u001b[0m",
      "\u001b[1;31mTypeError\u001b[0m                                 Traceback (most recent call last)",
      "Cell \u001b[1;32mIn[21], line 1\u001b[0m\n\u001b[1;32m----> 1\u001b[0m a\u001b[38;5;241m=\u001b[39mnp\u001b[38;5;241m.\u001b[39mrandom\u001b[38;5;241m.\u001b[39mnormal(\u001b[38;5;241m4\u001b[39m,\u001b[38;5;241m2\u001b[39m,(\u001b[38;5;241m3\u001b[39m,\u001b[38;5;241m3\u001b[39m),dtype\u001b[38;5;241m=\u001b[39m\u001b[38;5;28mint\u001b[39m)\n\u001b[0;32m      2\u001b[0m a\u001b[38;5;241m.\u001b[39mndim\n",
      "File \u001b[1;32mmtrand.pyx:1437\u001b[0m, in \u001b[0;36mnumpy.random.mtrand.RandomState.normal\u001b[1;34m()\u001b[0m\n",
      "\u001b[1;31mTypeError\u001b[0m: normal() got an unexpected keyword argument 'dtype'"
     ]
    }
   ],
   "source": [
    "a=np.random.normal(4,2,(3,3))\n",
    "a.ndim"
   ]
  },
  {
   "cell_type": "code",
   "execution_count": 19,
   "id": "5bf9dc8a-44fc-4b5b-8cbe-2f11e7b84a5e",
   "metadata": {
    "tags": []
   },
   "outputs": [
    {
     "data": {
      "text/plain": [
       "(3, 3)"
      ]
     },
     "execution_count": 19,
     "metadata": {},
     "output_type": "execute_result"
    }
   ],
   "source": [
    "a.shape"
   ]
  },
  {
   "cell_type": "code",
   "execution_count": 20,
   "id": "416d5a95-cd58-4361-a854-7a660004e9fa",
   "metadata": {
    "tags": []
   },
   "outputs": [
    {
     "data": {
      "text/plain": [
       "dtype('float64')"
      ]
     },
     "execution_count": 20,
     "metadata": {},
     "output_type": "execute_result"
    }
   ],
   "source": [
    "a.dtype"
   ]
  },
  {
   "cell_type": "code",
   "execution_count": 23,
   "id": "21396022-87ae-4204-85b2-f8abbb524c5f",
   "metadata": {
    "tags": []
   },
   "outputs": [
    {
     "data": {
      "text/plain": [
       "(3, 5)"
      ]
     },
     "execution_count": 23,
     "metadata": {},
     "output_type": "execute_result"
    }
   ],
   "source": [
    "b=np.random.randint(10, size=(3,5))\n",
    "b.shape"
   ]
  },
  {
   "cell_type": "code",
   "execution_count": 26,
   "id": "554b76f5-ee1b-451a-bf72-eb5ca2343b11",
   "metadata": {
    "tags": []
   },
   "outputs": [
    {
     "data": {
      "text/plain": [
       "array([[1, 2, 3],\n",
       "       [4, 5, 6],\n",
       "       [7, 8, 9]])"
      ]
     },
     "execution_count": 26,
     "metadata": {},
     "output_type": "execute_result"
    }
   ],
   "source": [
    "np.arange(1,10).reshape((3,3)) #tek boyuttan 2 boyuta döndürdü"
   ]
  },
  {
   "cell_type": "markdown",
   "id": "e5c59ab4-6088-473e-972c-7ed7dc805e7f",
   "metadata": {},
   "source": [
    "**ARRAY BİRLEŞTİRME**"
   ]
  },
  {
   "cell_type": "code",
   "execution_count": 27,
   "id": "88c142ee-6335-43a3-92d4-20e97b8ef4bf",
   "metadata": {
    "tags": []
   },
   "outputs": [
    {
     "data": {
      "text/plain": [
       "array([1, 2, 3, 4, 5, 6])"
      ]
     },
     "execution_count": 27,
     "metadata": {},
     "output_type": "execute_result"
    }
   ],
   "source": [
    "a=np.array([1,2,3])\n",
    "y=np.array([4,5,6])\n",
    "np.concatenate([a,y]) #dizileri birleştirir"
   ]
  },
  {
   "cell_type": "code",
   "execution_count": 34,
   "id": "ca6ba910-b142-4ca2-aa69-acddf75da02c",
   "metadata": {
    "tags": []
   },
   "outputs": [
    {
     "data": {
      "text/plain": [
       "array([[1, 2, 3],\n",
       "       [4, 5, 6],\n",
       "       [1, 2, 3],\n",
       "       [4, 5, 6]])"
      ]
     },
     "execution_count": 34,
     "metadata": {},
     "output_type": "execute_result"
    }
   ],
   "source": [
    "m=np.array([[1,2,3],[4,5,6]])\n",
    "#axis 1=satır bazındabirleştirme, axis 0= sutun olarak ekleme\n",
    "np.concatenate([m,m],axis=0) "
   ]
  },
  {
   "cell_type": "markdown",
   "id": "c8aa21f5-28d9-42cb-b7a2-d5e174357e13",
   "metadata": {
    "tags": []
   },
   "source": [
    "**ARRAY AYIRMA**"
   ]
  },
  {
   "cell_type": "code",
   "execution_count": 38,
   "id": "3c5bfb61-abe9-40c9-ae2e-46769ecd7898",
   "metadata": {
    "tags": []
   },
   "outputs": [],
   "source": [
    "a,b,c = np.split(a,[1,2]) # birinci 1 e kadar diğeri 2 ye digerleri de sona"
   ]
  },
  {
   "cell_type": "code",
   "execution_count": 39,
   "id": "9b4ca34e-880a-461a-ad3c-f3fb65693f86",
   "metadata": {
    "tags": []
   },
   "outputs": [
    {
     "data": {
      "text/plain": [
       "array([1])"
      ]
     },
     "execution_count": 39,
     "metadata": {},
     "output_type": "execute_result"
    }
   ],
   "source": [
    "a"
   ]
  },
  {
   "cell_type": "code",
   "execution_count": 42,
   "id": "1bb647c8-7e08-423f-a835-4ff6f978f596",
   "metadata": {
    "tags": []
   },
   "outputs": [
    {
     "data": {
      "text/plain": [
       "array([[ 0,  1,  2,  3],\n",
       "       [ 4,  5,  6,  7],\n",
       "       [ 8,  9, 10, 11],\n",
       "       [12, 13, 14, 15]])"
      ]
     },
     "execution_count": 42,
     "metadata": {},
     "output_type": "execute_result"
    }
   ],
   "source": [
    "d=np.arange(16).reshape(4,4)\n",
    "d"
   ]
  },
  {
   "cell_type": "code",
   "execution_count": 43,
   "id": "9ba65865-e763-4b54-8c0f-9d059526b310",
   "metadata": {
    "tags": []
   },
   "outputs": [
    {
     "data": {
      "text/plain": [
       "[array([[0, 1, 2, 3],\n",
       "        [4, 5, 6, 7]]),\n",
       " array([[ 8,  9, 10, 11],\n",
       "        [12, 13, 14, 15]])]"
      ]
     },
     "execution_count": 43,
     "metadata": {},
     "output_type": "execute_result"
    }
   ],
   "source": [
    "np.vsplit(d, [2])"
   ]
  },
  {
   "cell_type": "code",
   "execution_count": 45,
   "id": "bc0dadce-c556-4de0-a558-e24848033c3c",
   "metadata": {
    "tags": []
   },
   "outputs": [
    {
     "data": {
      "text/plain": [
       "array([[ 0,  1,  2,  3],\n",
       "       [ 4,  5,  6,  7],\n",
       "       [ 8,  9, 10, 11],\n",
       "       [12, 13, 14, 15]])"
      ]
     },
     "execution_count": 45,
     "metadata": {},
     "output_type": "execute_result"
    }
   ],
   "source": [
    "np.sort(d,axis=1) #kalıcı olmadan sıralar"
   ]
  },
  {
   "cell_type": "code",
   "execution_count": 46,
   "id": "f16f5530-b97a-4683-ac8d-81f6563d0c3a",
   "metadata": {
    "tags": []
   },
   "outputs": [
    {
     "data": {
      "text/plain": [
       "array([[0, 1, 2, 3],\n",
       "       [4, 5, 6, 7]])"
      ]
     },
     "execution_count": 46,
     "metadata": {},
     "output_type": "execute_result"
    }
   ],
   "source": [
    "d[0:2]"
   ]
  },
  {
   "cell_type": "code",
   "execution_count": 47,
   "id": "460c3807-b75d-434b-a3c1-67a23c455550",
   "metadata": {
    "tags": []
   },
   "outputs": [
    {
     "data": {
      "text/plain": [
       "array([[ 0,  1,  2,  3],\n",
       "       [ 8,  9, 10, 11]])"
      ]
     },
     "execution_count": 47,
     "metadata": {},
     "output_type": "execute_result"
    }
   ],
   "source": [
    "d[0::2] "
   ]
  },
  {
   "cell_type": "code",
   "execution_count": 48,
   "id": "b8b025eb-55fd-44fb-ad34-4590478345ea",
   "metadata": {
    "tags": []
   },
   "outputs": [
    {
     "data": {
      "text/plain": [
       "array([ 1,  5,  9, 13])"
      ]
     },
     "execution_count": 48,
     "metadata": {},
     "output_type": "execute_result"
    }
   ],
   "source": [
    "d[:,1] #satırın hepsi, 1. sutunu al"
   ]
  },
  {
   "cell_type": "code",
   "execution_count": 49,
   "id": "32abcc82-c7c0-48c2-9fef-d8ccef3e83df",
   "metadata": {
    "tags": []
   },
   "outputs": [
    {
     "data": {
      "text/plain": [
       "array([1, 2])"
      ]
     },
     "execution_count": 49,
     "metadata": {},
     "output_type": "execute_result"
    }
   ],
   "source": [
    "v=np.array([1,2,3,4])\n",
    "v[v<3] #fancy index\n"
   ]
  },
  {
   "cell_type": "code",
   "execution_count": 50,
   "id": "a74ec164-c18c-45c6-85d9-5a0e0c1ff4ff",
   "metadata": {
    "tags": []
   },
   "outputs": [
    {
     "data": {
      "text/plain": [
       "-0.5984600690578581"
      ]
     },
     "execution_count": 50,
     "metadata": {},
     "output_type": "execute_result"
    }
   ],
   "source": [
    "np.cos(180)"
   ]
  },
  {
   "cell_type": "code",
   "execution_count": null,
   "id": "2bb87412-0d39-4cec-85cc-07eb4ecf4717",
   "metadata": {},
   "outputs": [],
   "source": [
    " #cheatsheet --> google da aratırsan her şeyi söyler"
   ]
  },
  {
   "cell_type": "markdown",
   "id": "ccebc8b8-af29-4a42-9533-cb8aeb63a860",
   "metadata": {},
   "source": [
    "**NUMPY İLE 2 BİLİNMEYENLİ DENKLEM**"
   ]
  },
  {
   "cell_type": "markdown",
   "id": "5d71affe-73aa-4ff8-81af-35a1e902e0cd",
   "metadata": {},
   "source": [
    "5*x0 + x1=12\n",
    "x0+3*x1=10\n"
   ]
  },
  {
   "cell_type": "code",
   "execution_count": 52,
   "id": "e41266ce-4d37-4ef5-be44-5bebd67848ce",
   "metadata": {
    "tags": []
   },
   "outputs": [
    {
     "data": {
      "text/plain": [
       "array([1.85714286, 2.71428571])"
      ]
     },
     "execution_count": 52,
     "metadata": {},
     "output_type": "execute_result"
    }
   ],
   "source": [
    "a=np.array([[5,1],[1,3]]) #bilinmeyenlerin katsayısını listeye koy\n",
    "b=np.array([12,10]) # eşitliklerin karşısı\n",
    "x=np.linalg.solve(a,b)\n",
    "x\n",
    "#x0 ve x1 i buldu"
   ]
  },
  {
   "cell_type": "code",
   "execution_count": null,
   "id": "2646948e-6b7a-44b2-857d-6fe2cdee6ff0",
   "metadata": {},
   "outputs": [],
   "source": []
  }
 ],
 "metadata": {
  "kernelspec": {
   "display_name": "Python 3 (ipykernel)",
   "language": "python",
   "name": "python3"
  },
  "language_info": {
   "codemirror_mode": {
    "name": "ipython",
    "version": 3
   },
   "file_extension": ".py",
   "mimetype": "text/x-python",
   "name": "python",
   "nbconvert_exporter": "python",
   "pygments_lexer": "ipython3",
   "version": "3.11.5"
  }
 },
 "nbformat": 4,
 "nbformat_minor": 5
}
